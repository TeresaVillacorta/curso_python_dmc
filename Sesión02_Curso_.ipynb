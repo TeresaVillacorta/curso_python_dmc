{
  "nbformat": 4,
  "nbformat_minor": 0,
  "metadata": {
    "colab": {
      "name": "Sesión02-Curso.",
      "provenance": [],
      "authorship_tag": "ABX9TyO4gIrkb6QGRVBZGWhtvCjt",
      "include_colab_link": true
    },
    "kernelspec": {
      "name": "python3",
      "display_name": "Python 3"
    }
  },
  "cells": [
    {
      "cell_type": "markdown",
      "metadata": {
        "id": "view-in-github",
        "colab_type": "text"
      },
      "source": [
        "<a href=\"https://colab.research.google.com/github/TeresaVillacorta/curso_python_dmc/blob/main/Sesi%C3%B3n02_Curso_.ipynb\" target=\"_parent\"><img src=\"https://colab.research.google.com/assets/colab-badge.svg\" alt=\"Open In Colab\"/></a>"
      ]
    },
    {
      "cell_type": "code",
      "metadata": {
        "id": "nE-eqngiv_uJ",
        "outputId": "ee5bfd22-bd89-47d1-a158-c41654e6b4f7",
        "colab": {
          "base_uri": "https://localhost:8080/"
        }
      },
      "source": [
        "x = 8\n",
        "print(x)\n",
        "\n",
        "#variable \n",
        "nombres = False\n",
        "print(type(nombres))\n",
        "\n",
        "# https://www.python.org/dev/peps/pep-0008/#maximum-line-length\n",
        " "
      ],
      "execution_count": 7,
      "outputs": [
        {
          "output_type": "stream",
          "text": [
            "8\n",
            "<class 'bool'>\n"
          ],
          "name": "stdout"
        }
      ]
    },
    {
      "cell_type": "code",
      "metadata": {
        "id": "jscBk7iT4cb-",
        "outputId": "cca5072f-f4da-45a0-d458-e6ec6294d225",
        "colab": {
          "base_uri": "https://localhost:8080/"
        }
      },
      "source": [
        "nombres = 'Valeria' \n",
        "apellidos = 'Villacorta' \n",
        "edad = 24\n",
        "print (\"Tu nombre es:\", nombres, \"Tu apellido es:\", apellidos, \"Tu edad es:\", edad) "
      ],
      "execution_count": 6,
      "outputs": [
        {
          "output_type": "stream",
          "text": [
            "Tu nombre es: Valeria Tu apellido es: Villacorta Tu edad es: 24\n"
          ],
          "name": "stdout"
        }
      ]
    },
    {
      "cell_type": "code",
      "metadata": {
        "id": "cGP4NKMv48zJ"
      },
      "source": [
        "x=True"
      ],
      "execution_count": null,
      "outputs": []
    },
    {
      "cell_type": "code",
      "metadata": {
        "id": "e6V3TS2p6DdY",
        "outputId": "f5dae9ce-0229-40e5-cdcd-3124700c2297",
        "colab": {
          "base_uri": "https://localhost:8080/"
        }
      },
      "source": [
        "#entero negativo \n",
        "num_negativo = -100 \n",
        "print(type(num_negativo))"
      ],
      "execution_count": 8,
      "outputs": [
        {
          "output_type": "stream",
          "text": [
            "<class 'int'>\n"
          ],
          "name": "stdout"
        }
      ]
    },
    {
      "cell_type": "code",
      "metadata": {
        "id": "QrhEnuz96UlT",
        "outputId": "81b630ac-0f5d-416c-c195-69e00023e62a",
        "colab": {
          "base_uri": "https://localhost:8080/"
        }
      },
      "source": [
        "#Float \n",
        "num_real=4.5\n",
        "print(type(num_real))"
      ],
      "execution_count": 9,
      "outputs": [
        {
          "output_type": "stream",
          "text": [
            "<class 'float'>\n"
          ],
          "name": "stdout"
        }
      ]
    },
    {
      "cell_type": "code",
      "metadata": {
        "id": "kCkeVXRa6cmd",
        "outputId": "05b0f004-3345-43a0-848a-8b5a72ed73b5",
        "colab": {
          "base_uri": "https://localhost:8080/"
        }
      },
      "source": [
        "#Otra manera de expresar \n",
        "num_real = 0.5e-7\n",
        "print(type(num_real))\n"
      ],
      "execution_count": 10,
      "outputs": [
        {
          "output_type": "stream",
          "text": [
            "<class 'float'>\n"
          ],
          "name": "stdout"
        }
      ]
    },
    {
      "cell_type": "code",
      "metadata": {
        "id": "7PWRHbjU6pmU",
        "outputId": "91821de6-573b-49c3-8f01-9a8a59d5f371",
        "colab": {
          "base_uri": "https://localhost:8080/"
        }
      },
      "source": [
        "num_complejo = 3.2 + 7j\n",
        "print(type(num_complejo))"
      ],
      "execution_count": 11,
      "outputs": [
        {
          "output_type": "stream",
          "text": [
            "<class 'complex'>\n"
          ],
          "name": "stdout"
        }
      ]
    },
    {
      "cell_type": "code",
      "metadata": {
        "id": "FJjnVZz36u5H"
      },
      "source": [
        "#el número 7 en binario se representa de la siguiente forma:\n",
        "num_binario = 0b111\n",
        "\n",
        "# Número 6 = 0b110 \n"
      ],
      "execution_count": null,
      "outputs": []
    },
    {
      "cell_type": "code",
      "metadata": {
        "id": "FPvfdISL7j5k",
        "outputId": "636f9d83-5328-4de6-b201-6dfd5ada5fd3",
        "colab": {
          "base_uri": "https://localhost:8080/"
        }
      },
      "source": [
        "#front \n",
        "#código hexadecimal para los colores \n",
        "\n",
        "\n",
        "num_hex=0xff\n",
        "print(num_hex)\n"
      ],
      "execution_count": 13,
      "outputs": [
        {
          "output_type": "stream",
          "text": [
            "255\n"
          ],
          "name": "stdout"
        }
      ]
    },
    {
      "cell_type": "code",
      "metadata": {
        "id": "9YB2IlB27-py"
      },
      "source": [
        ""
      ],
      "execution_count": null,
      "outputs": []
    },
    {
      "cell_type": "code",
      "metadata": {
        "id": "Zlh73Xpa8abi"
      },
      "source": [
        "#Todas las cadenas son Unicode = 1. Unicode 2.Byte 3.Bytearray \n",
        "\n",
        "#Byte solo admite caracyeres ASCCII\n"
      ],
      "execution_count": null,
      "outputs": []
    },
    {
      "cell_type": "code",
      "metadata": {
        "id": "pvbhh9vf9ygl",
        "outputId": "0dc80ee4-1d16-4330-db1e-951bd3bebcc2",
        "colab": {
          "base_uri": "https://localhost:8080/",
          "height": 180
        }
      },
      "source": [
        "lat = bytearray (\"España\", \"latini\")\n",
        "print(lat)"
      ],
      "execution_count": 16,
      "outputs": [
        {
          "output_type": "error",
          "ename": "LookupError",
          "evalue": "ignored",
          "traceback": [
            "\u001b[0;31m---------------------------------------------------------------------------\u001b[0m",
            "\u001b[0;31mLookupError\u001b[0m                               Traceback (most recent call last)",
            "\u001b[0;32m<ipython-input-16-f9a42d77cf72>\u001b[0m in \u001b[0;36m<module>\u001b[0;34m()\u001b[0m\n\u001b[0;32m----> 1\u001b[0;31m \u001b[0mlat\u001b[0m \u001b[0;34m=\u001b[0m \u001b[0mbytearray\u001b[0m \u001b[0;34m(\u001b[0m\u001b[0;34m\"España\"\u001b[0m\u001b[0;34m,\u001b[0m \u001b[0;34m\"latini\"\u001b[0m\u001b[0;34m)\u001b[0m\u001b[0;34m\u001b[0m\u001b[0;34m\u001b[0m\u001b[0m\n\u001b[0m\u001b[1;32m      2\u001b[0m \u001b[0mprint\u001b[0m\u001b[0;34m(\u001b[0m\u001b[0mlat\u001b[0m\u001b[0;34m)\u001b[0m\u001b[0;34m\u001b[0m\u001b[0;34m\u001b[0m\u001b[0m\n",
            "\u001b[0;31mLookupError\u001b[0m: unknown encoding: latini"
          ]
        }
      ]
    },
    {
      "cell_type": "code",
      "metadata": {
        "id": "i0CNV1wk-BLE"
      },
      "source": [
        "bytearray (\"España, \"utf16\")"
      ],
      "execution_count": null,
      "outputs": []
    },
    {
      "cell_type": "code",
      "metadata": {
        "id": "jLe2Ktqx-bAq",
        "outputId": "2e4e00af-392d-471c-c43b-1fc297f765bf",
        "colab": {
          "base_uri": "https://localhost:8080/"
        }
      },
      "source": [
        "cad = \"es de tipo str\"\n",
        "print(type(cad))\n",
        "cad.encode()"
      ],
      "execution_count": 18,
      "outputs": [
        {
          "output_type": "stream",
          "text": [
            "<class 'str'>\n"
          ],
          "name": "stdout"
        },
        {
          "output_type": "execute_result",
          "data": {
            "text/plain": [
              "b'es de tipo str'"
            ]
          },
          "metadata": {
            "tags": []
          },
          "execution_count": 18
        }
      ]
    },
    {
      "cell_type": "code",
      "metadata": {
        "id": "PGx7mGxn-6cB",
        "outputId": "96e232fb-0ef6-432d-cb5c-6e42cba72d37",
        "colab": {
          "base_uri": "https://localhost:8080/"
        }
      },
      "source": [
        "pais = \"España\"\n",
        "array1 = bytearray(pais, 'utf-8')\n",
        "print(array1)"
      ],
      "execution_count": 19,
      "outputs": [
        {
          "output_type": "stream",
          "text": [
            "bytearray(b'Espa\\xc3\\xb1a')\n"
          ],
          "name": "stdout"
        }
      ]
    },
    {
      "cell_type": "code",
      "metadata": {
        "id": "aBtk35qY_Gvw"
      },
      "source": [
        "Estudiante = []\n",
        "\n",
        "\n",
        "Estudiante = [\"Manuel Ponte\", 23, \"False\"]\n"
      ],
      "execution_count": 20,
      "outputs": []
    },
    {
      "cell_type": "code",
      "metadata": {
        "id": "B2ZBmqiTBzUi",
        "outputId": "3c71ef5b-9315-4c0c-93c2-0e26bbc428a9",
        "colab": {
          "base_uri": "https://localhost:8080/",
          "height": 35
        }
      },
      "source": [
        "Estudiante [0]"
      ],
      "execution_count": 21,
      "outputs": [
        {
          "output_type": "execute_result",
          "data": {
            "application/vnd.google.colaboratory.intrinsic+json": {
              "type": "string"
            },
            "text/plain": [
              "'Manuel Ponte'"
            ]
          },
          "metadata": {
            "tags": []
          },
          "execution_count": 21
        }
      ]
    },
    {
      "cell_type": "code",
      "metadata": {
        "id": "MtbxOPgUB6AI",
        "outputId": "66636b3b-9577-466d-fb52-af063368c623",
        "colab": {
          "base_uri": "https://localhost:8080/",
          "height": 35
        }
      },
      "source": [
        "Estudiante[-1]"
      ],
      "execution_count": 23,
      "outputs": [
        {
          "output_type": "execute_result",
          "data": {
            "application/vnd.google.colaboratory.intrinsic+json": {
              "type": "string"
            },
            "text/plain": [
              "'False'"
            ]
          },
          "metadata": {
            "tags": []
          },
          "execution_count": 23
        }
      ]
    },
    {
      "cell_type": "code",
      "metadata": {
        "id": "h5xOrqngCIL0",
        "outputId": "3c88c9ed-dd7f-4ffc-b9ba-e85721d054c2",
        "colab": {
          "base_uri": "https://localhost:8080/"
        }
      },
      "source": [
        "Estudiante [:3]"
      ],
      "execution_count": 26,
      "outputs": [
        {
          "output_type": "execute_result",
          "data": {
            "text/plain": [
              "['Manuel Ponte', 23, 'False']"
            ]
          },
          "metadata": {
            "tags": []
          },
          "execution_count": 26
        }
      ]
    }
  ]
}